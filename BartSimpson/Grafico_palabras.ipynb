{
 "cells": [
  {
   "cell_type": "code",
   "execution_count": null,
   "metadata": {},
   "outputs": [],
   "source": [
    "import pandas as pd\n",
    "import matplotlib.pyplot as plt\n",
    "from IPython.display import Image, display\n",
    "from IPython.display import clear_output\n",
    "import ntpath\n",
    "import time\n",
    "\n",
    "#Bucle que crea actualiza en tiempo real las 10 palabras más repetidas en el contador de palabras generados en el archivo main.py\n",
    "while True:\n",
    "    #Transformamos los datos del contador de palabras en un Dataframe y filtramos las 10 primeras\n",
    "    df = pd.read_csv('contador.csv', delimiter=',') \n",
    "\n",
    "    Diez_primeras=df.sort_values(by=['N de repeticiones'],ascending=False).nlargest(10,'N de repeticiones')\n",
    "\n",
    "\n",
    "    bargraph = Diez_primeras.plot.bar(x = 'Palabras', y='N de repeticiones')\n",
    "    \n",
    "    clear_output(wait=True)\n",
    "    time.sleep(3)\n",
    "    display(plt.show())\n",
    "    \n",
    "\n",
    "\n",
    " \n",
    "   \n",
    "\n"
   ]
  }
 ],
 "metadata": {
  "kernelspec": {
   "display_name": "Python 3.9.12 ('base')",
   "language": "python",
   "name": "python3"
  },
  "language_info": {
   "codemirror_mode": {
    "name": "ipython",
    "version": 3
   },
   "file_extension": ".py",
   "mimetype": "text/x-python",
   "name": "python",
   "nbconvert_exporter": "python",
   "pygments_lexer": "ipython3",
   "version": "3.9.12"
  },
  "orig_nbformat": 4,
  "vscode": {
   "interpreter": {
    "hash": "b394ba6acb6ed3d6132d360d1320ce09c0d5ec2786c8f8dfec10484f233229da"
   }
  }
 },
 "nbformat": 4,
 "nbformat_minor": 2
}
